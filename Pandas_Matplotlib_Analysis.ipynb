{
 "cells": [
  {
   "cell_type": "code",
   "execution_count": null,
   "id": "placeholder",
   "metadata": {},
   "outputs": [],
   "source": [
    "# This is a placeholder for your notebook content.\n",
    "# You can copy the final version from the textdoc and save it here."
   ]
  }
 ],
 "metadata": {},
 "nbformat": 4,
 "nbformat_minor": 5
}